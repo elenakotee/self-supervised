{
  "cells": [
    {
      "cell_type": "code",
      "execution_count": null,
      "metadata": {
        "id": "jsr3AAZPHKcg"
      },
      "outputs": [],
      "source": [
        "!pip install transformers datasets\n",
        "!pip install torch\n",
        "!pip install matplotlib\n",
        "!pip install peft\n",
        "import torch\n",
        "from transformers import RobertaTokenizer, RobertaForSequenceClassification, Trainer, TrainingArguments, EarlyStoppingCallback\n",
        "from datasets import load_dataset\n",
        "from sklearn.metrics import accuracy_score\n",
        "import matplotlib.pyplot as plt\n",
        "from peft import get_peft_model, LoraConfig, TaskType"
      ]
    },
    {
      "cell_type": "code",
      "execution_count": null,
      "metadata": {
        "id": "4ZG8C8dxfXah"
      },
      "outputs": [],
      "source": [
        "def tokenize_function(examples):\n",
        "    return tokenizer(examples['sentence'], padding=\"max_length\", truncation=True)\n",
        "\n",
        "def compute_metrics(eval_pred):\n",
        "    logits, labels = eval_pred\n",
        "    predictions = logits.argmax(axis=-1)\n",
        "    accuracy = accuracy_score(labels, predictions)\n",
        "    return {\"accuracy\": accuracy}"
      ]
    },
    {
      "cell_type": "code",
      "execution_count": null,
      "metadata": {
        "id": "pniyaPeorgWc"
      },
      "outputs": [],
      "source": [
        "lora_config = LoraConfig(\n",
        "    task_type=TaskType.SEQ_CLS,\n",
        "    r=8,\n",
        "    lora_alpha=32,\n",
        "    lora_dropout=0.2,\n",
        "    target_modules=[\"query\", \"key\"]\n",
        ")\n",
        "model = get_peft_model(model, lora_config)"
      ]
    },
    {
      "cell_type": "code",
      "execution_count": null,
      "metadata": {
        "id": "6vaSQudFfRcB"
      },
      "outputs": [],
      "source": [
        "device = torch.device(\"cuda\" if torch.cuda.is_available() else \"cpu\")\n",
        "print(f\"Using device: {device}\")\n",
        "\n",
        "dataset = load_dataset(\"glue\", \"sst2\")\n",
        "small_train_data, small_new_val_data = dataset['train'].shuffle(seed=42).select(range(3000)).train_test_split(test_size=0.1, seed=42).values()\n",
        "small_val_dataset = dataset['validation'].shuffle(seed=42).select(range(600))\n"
      ]
    },
    {
      "cell_type": "code",
      "execution_count": null,
      "metadata": {
        "id": "k5RS1Fu8IXbb"
      },
      "outputs": [],
      "source": [
        "tokenizer = RobertaTokenizer.from_pretrained('roberta-base')\n",
        "model = RobertaForSequenceClassification.from_pretrained('roberta-base', num_labels=2).to(device)\n",
        "\n",
        "for dataset in (small_train_data, small_new_val_data, small_val_dataset):\n",
        "    dataset.map(tokenize_function, batched=True).set_format(type='torch', columns=['input_ids', 'attention_mask', 'label'])"
      ]
    },
    {
      "cell_type": "code",
      "execution_count": null,
      "metadata": {
        "id": "r6zYPakJHvve"
      },
      "outputs": [],
      "source": [
        "training_args = TrainingArguments(\n",
        "    output_dir='./results',\n",
        "    evaluation_strategy=\"steps\",\n",
        "    eval_steps=25,\n",
        "    save_strategy=\"steps\",\n",
        "    logging_dir='./logs',\n",
        "    logging_steps=25,\n",
        "    save_steps=50,\n",
        "    save_total_limit=5,\n",
        "    per_device_train_batch_size=16,\n",
        "    per_device_eval_batch_size=64,\n",
        "    num_train_epochs=4,\n",
        "    warmup_steps=500,\n",
        "    weight_decay=0.01,\n",
        "    load_best_model_at_end=True,\n",
        "    metric_for_best_model=\"accuracy\",\n",
        "    greater_is_better=True,\n",
        "    resume_from_checkpoint=True\n",
        ")\n",
        "\n",
        "trainer = Trainer(\n",
        "    model=model,\n",
        "    args=training_args,\n",
        "    train_dataset=small_train_data,\n",
        "    eval_dataset=small_new_val_data,\n",
        "    tokenizer=tokenizer,\n",
        "    compute_metrics=compute_metrics\n",
        ")\n",
        "\n",
        "trainer.train()"
      ]
    },
    {
      "cell_type": "code",
      "execution_count": null,
      "metadata": {
        "colab": {
          "base_uri": "https://localhost:8080/",
          "height": 1000
        },
        "id": "c0YO40iCIS2q",
        "outputId": "5d2ca43f-65a9-4181-b513-748fbbc38e31"
      },
      "outputs": [],
      "source": [
        "train_steps, validation_accuracy = zip(*[(log['step'], log['eval_accuracy']) for log in trainer.state.log_history if 'eval_accuracy' in log])\n",
        "training_accuracy = [\n",
        "    trainer.evaluate(eval_dataset=small_train_data.select(range(100)), metric_key_prefix=\"train\")['train_accuracy']\n",
        "    for _ in train_steps\n",
        "]\n",
        "\n",
        "plt.plot(train_steps, training_accuracy, label=\"Training Accuracy\", marker='o')\n",
        "plt.plot(train_steps, validation_accuracy, label=\"Validation Accuracy\", marker='o')\n",
        "\n",
        "plt.xlabel(\"Steps\")\n",
        "plt.ylabel(\"Accuracy\")\n",
        "plt.ylim([0, 1])\n",
        "plt.title(\"Training and Validation Accuracy Over Time\")\n",
        "plt.legend()\n",
        "plt.show()"
      ]
    },
    {
      "cell_type": "code",
      "execution_count": null,
      "metadata": {
        "colab": {
          "base_uri": "https://localhost:8080/",
          "height": 55
        },
        "id": "uHafPKhxIU_y",
        "outputId": "084f9fc9-2d61-44c7-c69d-2108c40aceed"
      },
      "outputs": [],
      "source": [
        "print(f\"Test Accuracy: {trainer.evaluate(eval_dataset=small_val_dataset)['eval_accuracy']}\")"
      ]
    }
  ],
  "metadata": {
    "accelerator": "GPU",
    "colab": {
      "gpuType": "A100",
      "provenance": []
    },
    "kernelspec": {
      "display_name": "Python 3",
      "name": "python3"
    },
    "language_info": {
      "name": "python"
    }
  },
  "nbformat": 4,
  "nbformat_minor": 0
}
