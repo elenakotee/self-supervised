{
  "cells": [
    {
      "cell_type": "code",
      "execution_count": null,
      "metadata": {
        "id": "nAtW8XIxifVN"
      },
      "outputs": [],
      "source": [
        "!pip install transformers datasets\n",
        "!pip install torch\n",
        "!pip install matplotlib\n",
        "import torch\n",
        "from transformers import RobertaTokenizer, RobertaForSequenceClassification, Trainer, TrainingArguments, EarlyStoppingCallback\n",
        "from datasets import load_dataset\n",
        "from sklearn.metrics import accuracy_score\n",
        "import matplotlib.pyplot as plt\n",
        "from transformers import EarlyStoppingCallback"
      ]
    },
    {
      "cell_type": "code",
      "execution_count": null,
      "metadata": {
        "id": "ctVHqiiTeXFt"
      },
      "outputs": [],
      "source": [
        "def tokenize_function(examples):\n",
        "    return tokenizer(examples['sentence'], padding=\"max_length\", truncation=True)\n",
        "\n",
        "def compute_metrics(eval_pred):\n",
        "    logits, labels = eval_pred\n",
        "    predictions = logits.argmax(axis=-1)\n",
        "    accuracy = accuracy_score(labels, predictions)\n",
        "    return {\"accuracy\": accuracy}"
      ]
    },
    {
      "cell_type": "code",
      "execution_count": null,
      "metadata": {
        "id": "td2lmB8MicC9"
      },
      "outputs": [],
      "source": [
        "device = torch.device(\"cuda\" if torch.cuda.is_available() else \"cpu\")\n",
        "print(f\"Using device: {device}\")\n",
        "\n",
        "dataset = load_dataset(\"glue\", \"sst2\")\n",
        "small_train_data, small_new_val_data = dataset['train'].shuffle(seed=42).select(range(3000)).train_test_split(test_size=0.1, seed=42).values()\n",
        "small_val_dataset = dataset['validation'].shuffle(seed=42).select(range(600))\n",
        "\n"
      ]
    },
    {
      "cell_type": "code",
      "execution_count": null,
      "metadata": {
        "id": "U8J6M6A6ij7S"
      },
      "outputs": [],
      "source": [
        "tokenizer = RobertaTokenizer.from_pretrained('roberta-base')\n",
        "model = RobertaForSequenceClassification.from_pretrained('roberta-base', num_labels=2).to(device)\n",
        "\n",
        "for dataset in (small_train_data, small_new_val_data, small_val_dataset):\n",
        "    dataset.map(tokenize_function, batched=True).set_format(type='torch', columns=['input_ids', 'attention_mask', 'label'])\n"
      ]
    },
    {
      "cell_type": "code",
      "execution_count": null,
      "metadata": {
        "id": "6RGWkup3eu6c"
      },
      "outputs": [],
      "source": [
        "training_args = TrainingArguments(\n",
        "    output_dir='./results',\n",
        "    evaluation_strategy=\"steps\",\n",
        "    eval_steps=25,\n",
        "    save_strategy=\"steps\",\n",
        "    logging_dir='./logs',\n",
        "    logging_steps=25,\n",
        "    save_steps=50,\n",
        "    save_total_limit=5,\n",
        "    per_device_train_batch_size=16,\n",
        "    per_device_eval_batch_size=64,\n",
        "    num_train_epochs=4,\n",
        "    warmup_steps=500,\n",
        "    weight_decay=0.01,\n",
        "    load_best_model_at_end=True,\n",
        "    metric_for_best_model=\"accuracy\",\n",
        "    greater_is_better=True,\n",
        "    resume_from_checkpoint=True\n",
        ")\n",
        "\n",
        "trainer = Trainer(\n",
        "    model=model,\n",
        "    args=training_args,\n",
        "    train_dataset=small_train_data,\n",
        "    eval_dataset=small_new_val_data,\n",
        "    tokenizer=tokenizer,\n",
        "    callbacks=[EarlyStoppingCallback(early_stopping_patience=2)],\n",
        "    compute_metrics=compute_metrics\n",
        ")\n",
        "\n",
        "trainer.train()"
      ]
    },
    {
      "cell_type": "code",
      "execution_count": null,
      "metadata": {
        "colab": {
          "base_uri": "https://localhost:8080/",
          "height": 1000
        },
        "id": "JW5VExVzimR_",
        "outputId": "9a620fad-da4e-402d-f50d-c83c2df2bced"
      },
      "outputs": [],
      "source": [
        "train_steps, validation_accuracy = zip(*[(log['step'], log['eval_accuracy']) for log in trainer.state.log_history if 'eval_accuracy' in log])\n",
        "training_accuracy = [\n",
        "    trainer.evaluate(eval_dataset=small_train_data.select(range(100)), metric_key_prefix=\"train\")['train_accuracy']\n",
        "    for _ in train_steps\n",
        "]\n",
        "\n",
        "\n",
        "plt.plot(train_steps, training_accuracy, label=\"Training Accuracy\", marker='o')\n",
        "plt.plot(train_steps, validation_accuracy, label=\"Validation Accuracy\", marker='o')\n",
        "plt.xlabel(\"Steps\")\n",
        "plt.ylabel(\"Accuracy\")\n",
        "plt.ylim([0, 1])\n",
        "plt.title(\"Training and Validation Accuracy Over Time\")\n",
        "plt.legend()\n",
        "plt.show()"
      ]
    },
    {
      "cell_type": "code",
      "execution_count": null,
      "metadata": {
        "colab": {
          "base_uri": "https://localhost:8080/",
          "height": 55
        },
        "id": "8rVJLe5vszwQ",
        "outputId": "80e6dbdd-ba32-431c-8e1e-d53bd77a456c"
      },
      "outputs": [],
      "source": [
        "print(f\"Test Accuracy: {trainer.evaluate(eval_dataset=small_val_dataset)['eval_accuracy']}\")"
      ]
    }
  ],
  "metadata": {
    "accelerator": "GPU",
    "colab": {
      "gpuType": "T4",
      "provenance": []
    },
    "kernelspec": {
      "display_name": "Python 3",
      "name": "python3"
    },
    "language_info": {
      "name": "python"
    }
  },
  "nbformat": 4,
  "nbformat_minor": 0
}
