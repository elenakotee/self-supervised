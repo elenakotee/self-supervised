{
  "nbformat": 4,
  "nbformat_minor": 0,
  "metadata": {
    "colab": {
      "provenance": [],
      "gpuType": "T4"
    },
    "kernelspec": {
      "name": "python3",
      "display_name": "Python 3"
    },
    "language_info": {
      "name": "python"
    },
    "accelerator": "GPU"
  },
  "cells": [
    {
      "cell_type": "code",
      "source": [
        "!pip install transformers datasets\n",
        "!pip install torch\n",
        "!pip install matplotlib\n",
        "import torch\n",
        "from transformers import RobertaTokenizer, RobertaForSequenceClassification, Trainer, TrainingArguments, EarlyStoppingCallback\n",
        "from datasets import load_dataset\n",
        "from sklearn.metrics import accuracy_score\n",
        "import matplotlib.pyplot as plt\n",
        "from transformers import EarlyStoppingCallback"
      ],
      "metadata": {
        "id": "nAtW8XIxifVN"
      },
      "execution_count": null,
      "outputs": []
    },
    {
      "cell_type": "code",
      "source": [
        "def tokenize_function(examples):\n",
        "    return tokenizer(examples['sentence'], padding=\"max_length\", truncation=True)\n",
        "\n",
        "def compute_metrics(eval_pred):\n",
        "    logits, labels = eval_pred\n",
        "    predictions = logits.argmax(axis=-1)\n",
        "    accuracy = accuracy_score(labels, predictions)\n",
        "    return {\"accuracy\": accuracy}"
      ],
      "metadata": {
        "id": "ctVHqiiTeXFt"
      },
      "execution_count": null,
      "outputs": []
    },
    {
      "cell_type": "code",
      "execution_count": null,
      "metadata": {
        "id": "td2lmB8MicC9"
      },
      "outputs": [],
      "source": [
        "device = torch.device(\"cuda\" if torch.cuda.is_available() else \"cpu\")\n",
        "print(f\"Using device: {device}\")\n",
        "\n",
        "dataset = load_dataset(\"glue\", \"sst2\")\n",
        "small_train_data, small_new_val_data = dataset['train'].shuffle(seed=42).select(range(3000)).train_test_split(test_size=0.1, seed=42).values()\n",
        "small_val_dataset = dataset['validation'].shuffle(seed=42).select(range(600))\n",
        "\n"
      ]
    },
    {
      "cell_type": "code",
      "source": [
        "tokenizer = RobertaTokenizer.from_pretrained('roberta-base')\n",
        "model = RobertaForSequenceClassification.from_pretrained('roberta-base', num_labels=2).to(device)\n",
        "\n",
        "for dataset in (small_train_data, small_new_val_data, small_val_dataset):\n",
        "    dataset.map(tokenize_function, batched=True).set_format(type='torch', columns=['input_ids', 'attention_mask', 'label'])\n"
      ],
      "metadata": {
        "id": "U8J6M6A6ij7S"
      },
      "execution_count": null,
      "outputs": []
    },
    {
      "cell_type": "code",
      "source": [
        "training_args = TrainingArguments(\n",
        "    output_dir='./results',\n",
        "    evaluation_strategy=\"steps\",\n",
        "    eval_steps=25,\n",
        "    save_strategy=\"steps\",\n",
        "    logging_dir='./logs',\n",
        "    logging_steps=25,\n",
        "    save_steps=50,\n",
        "    save_total_limit=5,\n",
        "    per_device_train_batch_size=16,\n",
        "    per_device_eval_batch_size=64,\n",
        "    num_train_epochs=4,\n",
        "    warmup_steps=500,\n",
        "    weight_decay=0.01,\n",
        "    load_best_model_at_end=True,\n",
        "    metric_for_best_model=\"accuracy\",\n",
        "    greater_is_better=True,\n",
        "    resume_from_checkpoint=True\n",
        ")\n",
        "\n",
        "trainer = Trainer(\n",
        "    model=model,\n",
        "    args=training_args,\n",
        "    train_dataset=small_train_data,\n",
        "    eval_dataset=small_new_val_data,\n",
        "    tokenizer=tokenizer,\n",
        "    callbacks=[EarlyStoppingCallback(early_stopping_patience=2)],\n",
        "    compute_metrics=compute_metrics\n",
        ")\n",
        "\n",
        "trainer.train()"
      ],
      "metadata": {
        "id": "6RGWkup3eu6c"
      },
      "execution_count": null,
      "outputs": []
    },
    {
      "cell_type": "code",
      "source": [
        "train_steps, validation_accuracy = zip(*[(log['step'], log['eval_accuracy']) for log in trainer.state.log_history if 'eval_accuracy' in log])\n",
        "training_accuracy = [\n",
        "    trainer.evaluate(eval_dataset=small_train_data.select(range(100)), metric_key_prefix=\"train\")['train_accuracy']\n",
        "    for _ in train_steps\n",
        "]\n",
        "\n",
        "\n",
        "plt.plot(train_steps, training_accuracy, label=\"Training Accuracy\", marker='o')\n",
        "plt.plot(train_steps, validation_accuracy, label=\"Validation Accuracy\", marker='o')\n",
        "plt.xlabel(\"Steps\")\n",
        "plt.ylabel(\"Accuracy\")\n",
        "plt.ylim([0, 1])\n",
        "plt.title(\"Training and Validation Accuracy Over Time\")\n",
        "plt.legend()\n",
        "plt.show()"
      ],
      "metadata": {
        "colab": {
          "base_uri": "https://localhost:8080/",
          "height": 1000
        },
        "id": "JW5VExVzimR_",
        "outputId": "9a620fad-da4e-402d-f50d-c83c2df2bced"
      },
      "execution_count": 4,
      "outputs": [
        {
          "output_type": "stream",
          "name": "stderr",
          "text": [
            "/usr/local/lib/python3.10/dist-packages/transformers/training_args.py:1525: FutureWarning: `evaluation_strategy` is deprecated and will be removed in version 4.46 of 🤗 Transformers. Use `eval_strategy` instead\n",
            "  warnings.warn(\n"
          ]
        },
        {
          "output_type": "display_data",
          "data": {
            "text/plain": [
              "<IPython.core.display.HTML object>"
            ],
            "text/html": [
              "\n",
              "    <div>\n",
              "      \n",
              "      <progress value='400' max='676' style='width:300px; height:20px; vertical-align: middle;'></progress>\n",
              "      [400/676 13:18 < 09:13, 0.50 it/s, Epoch 2/4]\n",
              "    </div>\n",
              "    <table border=\"1\" class=\"dataframe\">\n",
              "  <thead>\n",
              " <tr style=\"text-align: left;\">\n",
              "      <th>Step</th>\n",
              "      <th>Training Loss</th>\n",
              "      <th>Validation Loss</th>\n",
              "      <th>Accuracy</th>\n",
              "    </tr>\n",
              "  </thead>\n",
              "  <tbody>\n",
              "    <tr>\n",
              "      <td>25</td>\n",
              "      <td>0.700300</td>\n",
              "      <td>0.693236</td>\n",
              "      <td>0.473333</td>\n",
              "    </tr>\n",
              "    <tr>\n",
              "      <td>50</td>\n",
              "      <td>0.690500</td>\n",
              "      <td>0.689794</td>\n",
              "      <td>0.530000</td>\n",
              "    </tr>\n",
              "    <tr>\n",
              "      <td>75</td>\n",
              "      <td>0.681900</td>\n",
              "      <td>0.685295</td>\n",
              "      <td>0.530000</td>\n",
              "    </tr>\n",
              "    <tr>\n",
              "      <td>100</td>\n",
              "      <td>0.667200</td>\n",
              "      <td>0.589642</td>\n",
              "      <td>0.603333</td>\n",
              "    </tr>\n",
              "    <tr>\n",
              "      <td>125</td>\n",
              "      <td>0.481800</td>\n",
              "      <td>0.320339</td>\n",
              "      <td>0.890000</td>\n",
              "    </tr>\n",
              "    <tr>\n",
              "      <td>150</td>\n",
              "      <td>0.401500</td>\n",
              "      <td>0.318493</td>\n",
              "      <td>0.890000</td>\n",
              "    </tr>\n",
              "    <tr>\n",
              "      <td>175</td>\n",
              "      <td>0.316600</td>\n",
              "      <td>0.314991</td>\n",
              "      <td>0.903333</td>\n",
              "    </tr>\n",
              "    <tr>\n",
              "      <td>200</td>\n",
              "      <td>0.324400</td>\n",
              "      <td>0.315880</td>\n",
              "      <td>0.903333</td>\n",
              "    </tr>\n",
              "    <tr>\n",
              "      <td>225</td>\n",
              "      <td>0.424400</td>\n",
              "      <td>0.332479</td>\n",
              "      <td>0.866667</td>\n",
              "    </tr>\n",
              "    <tr>\n",
              "      <td>250</td>\n",
              "      <td>0.397500</td>\n",
              "      <td>0.255744</td>\n",
              "      <td>0.916667</td>\n",
              "    </tr>\n",
              "    <tr>\n",
              "      <td>275</td>\n",
              "      <td>0.425700</td>\n",
              "      <td>0.284878</td>\n",
              "      <td>0.906667</td>\n",
              "    </tr>\n",
              "    <tr>\n",
              "      <td>300</td>\n",
              "      <td>0.337200</td>\n",
              "      <td>0.253822</td>\n",
              "      <td>0.920000</td>\n",
              "    </tr>\n",
              "    <tr>\n",
              "      <td>325</td>\n",
              "      <td>0.301300</td>\n",
              "      <td>0.288034</td>\n",
              "      <td>0.896667</td>\n",
              "    </tr>\n",
              "    <tr>\n",
              "      <td>350</td>\n",
              "      <td>0.308100</td>\n",
              "      <td>0.286035</td>\n",
              "      <td>0.923333</td>\n",
              "    </tr>\n",
              "    <tr>\n",
              "      <td>375</td>\n",
              "      <td>0.306000</td>\n",
              "      <td>0.425103</td>\n",
              "      <td>0.910000</td>\n",
              "    </tr>\n",
              "    <tr>\n",
              "      <td>400</td>\n",
              "      <td>0.368000</td>\n",
              "      <td>0.245682</td>\n",
              "      <td>0.920000</td>\n",
              "    </tr>\n",
              "  </tbody>\n",
              "</table><p>"
            ]
          },
          "metadata": {}
        },
        {
          "output_type": "display_data",
          "data": {
            "text/plain": [
              "<IPython.core.display.HTML object>"
            ],
            "text/html": [
              "\n",
              "    <div>\n",
              "      \n",
              "      <progress value='32' max='2' style='width:300px; height:20px; vertical-align: middle;'></progress>\n",
              "      [2/2 00:46]\n",
              "    </div>\n",
              "    "
            ]
          },
          "metadata": {}
        },
        {
          "output_type": "stream",
          "name": "stderr",
          "text": [
            "early stopping required metric_for_best_model, but did not find eval_accuracy so early stopping is disabled\n",
            "early stopping required metric_for_best_model, but did not find eval_accuracy so early stopping is disabled\n",
            "early stopping required metric_for_best_model, but did not find eval_accuracy so early stopping is disabled\n",
            "early stopping required metric_for_best_model, but did not find eval_accuracy so early stopping is disabled\n",
            "early stopping required metric_for_best_model, but did not find eval_accuracy so early stopping is disabled\n",
            "early stopping required metric_for_best_model, but did not find eval_accuracy so early stopping is disabled\n",
            "early stopping required metric_for_best_model, but did not find eval_accuracy so early stopping is disabled\n",
            "early stopping required metric_for_best_model, but did not find eval_accuracy so early stopping is disabled\n",
            "early stopping required metric_for_best_model, but did not find eval_accuracy so early stopping is disabled\n",
            "early stopping required metric_for_best_model, but did not find eval_accuracy so early stopping is disabled\n",
            "early stopping required metric_for_best_model, but did not find eval_accuracy so early stopping is disabled\n",
            "early stopping required metric_for_best_model, but did not find eval_accuracy so early stopping is disabled\n",
            "early stopping required metric_for_best_model, but did not find eval_accuracy so early stopping is disabled\n",
            "early stopping required metric_for_best_model, but did not find eval_accuracy so early stopping is disabled\n",
            "early stopping required metric_for_best_model, but did not find eval_accuracy so early stopping is disabled\n",
            "early stopping required metric_for_best_model, but did not find eval_accuracy so early stopping is disabled\n"
          ]
        },
        {
          "output_type": "display_data",
          "data": {
            "text/plain": [
              "<Figure size 640x480 with 1 Axes>"
            ],
            "image/png": "[encoded data removed]"
          },
          "metadata": {}
        }
      ]
    },
    {
      "cell_type": "code",
      "source": [
        "print(f\"Test Accuracy: {trainer.evaluate(eval_dataset=small_val_dataset)['eval_accuracy']}\")"
      ],
      "metadata": {
        "colab": {
          "base_uri": "https://localhost:8080/",
          "height": 55
        },
        "id": "8rVJLe5vszwQ",
        "outputId": "80e6dbdd-ba32-431c-8e1e-d53bd77a456c"
      },
      "execution_count": 5,
      "outputs": [
        {
          "output_type": "display_data",
          "data": {
            "text/plain": [
              "<IPython.core.display.HTML object>"
            ],
            "text/html": [
              "\n",
              "    <div>\n",
              "      \n",
              "      <progress value='42' max='2' style='width:300px; height:20px; vertical-align: middle;'></progress>\n",
              "      [2/2 01:05]\n",
              "    </div>\n",
              "    "
            ]
          },
          "metadata": {}
        },
        {
          "output_type": "stream",
          "name": "stdout",
          "text": [
            "Test Accuracy: 0.91\n"
          ]
        }
      ]
    }
  ]
}